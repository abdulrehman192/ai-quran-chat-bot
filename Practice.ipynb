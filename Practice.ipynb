{
 "cells": [
  {
   "cell_type": "markdown",
   "id": "24f1a465",
   "metadata": {},
   "source": [
    "Quran Chatbot"
   ]
  },
  {
   "cell_type": "code",
   "execution_count": 25,
   "id": "6e8c0a4d",
   "metadata": {},
   "outputs": [],
   "source": [
    "import os\n",
    "import sqlite3\n",
    "import openai\n",
    "import gradio as gr\n",
    "from dotenv import load_dotenv"
   ]
  },
  {
   "cell_type": "code",
   "execution_count": 26,
   "id": "dc71af1a",
   "metadata": {},
   "outputs": [],
   "source": [
    "load_dotenv(override=True)\n",
    "\n",
    "openai_api_key = os.getenv(\"OPENAI_API_KEY\")"
   ]
  },
  {
   "cell_type": "code",
   "execution_count": 27,
   "id": "6c78e3cb",
   "metadata": {},
   "outputs": [],
   "source": [
    "def search_quran(keyword):\n",
    "    conn = sqlite3.connect(\"db/quran.db\")\n",
    "    cursor = conn.cursor()\n",
    "    query = \"\"\"\n",
    "    SELECT surahId, ayatNumber, arabicText, urduTranslation \n",
    "    FROM quran \n",
    "    WHERE arabicText LIKE ? OR urduTranslation LIKE ?\n",
    "    LIMIT 5\n",
    "    \"\"\"\n",
    "    pattern = f\"%{keyword}%\"\n",
    "    cursor.execute(query, (pattern, pattern))\n",
    "    results = cursor.fetchall()\n",
    "    conn.close()\n",
    "    return results\n"
   ]
  },
  {
   "cell_type": "code",
   "execution_count": 28,
   "id": "6ba4d38a",
   "metadata": {},
   "outputs": [],
   "source": [
    "class QuranChatbot:\n",
    "\n",
    "    def __init__(self):\n",
    "        self.openai = openai.OpenAI(api_key=openai_api_key)\n",
    "\n",
    "    \n",
    "    def system_prompt(self):\n",
    "        return (\n",
    "            \"Aap ek Islami scholar hain. User Urdu mein Quran se related sawal poochta hai. \"\n",
    "            \"Aap relevant ayatein aur tafsir Urdu mein samjhate hain. \"\n",
    "            \"Agar koi sawal mushkil ho ya jawab nahi milta, use record karen.\"\n",
    "        )\n",
    "\n",
    "    def chat(self, message, history):\n",
    "        # Step 1: Extract keywords via OpenAI\n",
    "        keyword_extraction_prompt = (\n",
    "            f\"Extract 1-2 important keywords (in Urdu) from this Quran-related question \"\n",
    "            f\"to help look up related ayats:\\n\\n'{message}'\\n\\nJust return the keywords as a comma-separated string.\"\n",
    "        )\n",
    "\n",
    "        keyword_response = self.openai.chat.completions.create(\n",
    "            model=\"gpt-4o\",\n",
    "            messages=[\n",
    "                {\"role\": \"system\", \"content\": \"You extract keywords from Urdu/Arabic Quran-related queries.\"},\n",
    "                {\"role\": \"user\", \"content\": keyword_extraction_prompt}\n",
    "            ]\n",
    "        )\n",
    "\n",
    "        keyword_text = keyword_response.choices[0].message.content.strip()\n",
    "        extracted_keywords = [kw.strip() for kw in keyword_text.split(\",\") if kw.strip()]\n",
    "\n",
    "        # Step 2: Search Quran DB with keywords\n",
    "        results = []\n",
    "        for kw in extracted_keywords:\n",
    "            matches = search_quran(kw)\n",
    "            if matches:\n",
    "                results.extend(matches)\n",
    "\n",
    "        results = list({(s, a, ar, ur) for s, a, ar, ur in results})\n",
    "\n",
    "        if not results:\n",
    "            return \"Maaf kijiye, Quran mein is sawal se mutaliq koi ayat nahi mili.\"\n",
    "\n",
    "        # Step 3: Format ayats for OpenAI input\n",
    "        context = \"Yeh Quran ki kuch ayatein hain jo aapke sawal se mutaliq ho sakti hain:\\n\\n\"\n",
    "        for surahId, ayatNumber, arabicText, urduTranslation in results[:5]:\n",
    "            context += f\"Surah {surahId}, Ayat {ayatNumber}:\\n\"\n",
    "            context += f\"Arabic: {arabicText}\\n\"\n",
    "            context += f\"Urdu: {urduTranslation}\\n\\n\"\n",
    "\n",
    "        prompt = context + f\"Aur ab user ka sawal hai:\\n\\n{message}\\n\\nIn ayaton ki roshni mein tafsir samjhayen.\"\n",
    "\n",
    "        # Step 4: Chat with OpenAI\n",
    "        messages = [{\"role\": \"system\", \"content\": self.system_prompt()}]\n",
    "        for msg in history:\n",
    "            messages.append({\"role\": msg[\"role\"], \"content\": msg[\"content\"]})\n",
    "            messages.append({\"role\": \"user\", \"content\": prompt})\n",
    "\n",
    "        done = False\n",
    "        while not done:\n",
    "            response = self.openai.chat.completions.create(\n",
    "                model=\"gpt-4o\",\n",
    "                messages=messages,\n",
    "            )\n",
    "            done = True\n",
    "\n",
    "        return response.choices[0].message.content\n"
   ]
  },
  {
   "cell_type": "code",
   "execution_count": 29,
   "id": "179c7f04",
   "metadata": {},
   "outputs": [
    {
     "name": "stdout",
     "output_type": "stream",
     "text": [
      "* Running on local URL:  http://127.0.0.1:7862\n",
      "* To create a public link, set `share=True` in `launch()`.\n"
     ]
    },
    {
     "data": {
      "text/html": [
       "<div><iframe src=\"http://127.0.0.1:7862/\" width=\"100%\" height=\"500\" allow=\"autoplay; camera; microphone; clipboard-read; clipboard-write;\" frameborder=\"0\" allowfullscreen></iframe></div>"
      ],
      "text/plain": [
       "<IPython.core.display.HTML object>"
      ]
     },
     "metadata": {},
     "output_type": "display_data"
    },
    {
     "data": {
      "text/plain": []
     },
     "execution_count": 29,
     "metadata": {},
     "output_type": "execute_result"
    }
   ],
   "source": [
    "quran_bot = QuranChatbot()\n",
    "\n",
    "gr.ChatInterface(fn=quran_bot.chat, type=\"messages\").launch()\n"
   ]
  },
  {
   "cell_type": "code",
   "execution_count": null,
   "id": "282aa11f",
   "metadata": {},
   "outputs": [],
   "source": []
  }
 ],
 "metadata": {
  "kernelspec": {
   "display_name": ".venv",
   "language": "python",
   "name": "python3"
  },
  "language_info": {
   "codemirror_mode": {
    "name": "ipython",
    "version": 3
   },
   "file_extension": ".py",
   "mimetype": "text/x-python",
   "name": "python",
   "nbconvert_exporter": "python",
   "pygments_lexer": "ipython3",
   "version": "3.13.5"
  }
 },
 "nbformat": 4,
 "nbformat_minor": 5
}
